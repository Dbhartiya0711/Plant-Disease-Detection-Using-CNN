{
 "cells": [
  {
   "cell_type": "code",
   "execution_count": 1,
   "metadata": {},
   "outputs": [],
   "source": [
    "import sys\n",
    "import cv2\n",
    "import numpy as np \n",
    "import pickle\n",
    "from os import listdir\n",
    "from sklearn.preprocessing import LabelBinarizer\n",
    "from keras.models import Sequential\n",
    "from keras.layers.normalization import batch_normalization\n",
    "from keras.layers.convolutional import Conv2D\n",
    "from keras.layers.convolutional import MaxPooling2D\n",
    "from keras.layers.core import Activation, Flatten, Dropout, Dense\n",
    "from keras import backend as K\n",
    "from keras.preprocessing.image import ImageDataGenerator\n",
    "from keras.optimizers import Adam\n",
    "from keras.preprocessing import image\n",
    "from keras.utils.image_utils import img_to_array\n",
    "from sklearn.preprocessing import MultiLabelBinarizer\n",
    "from sklearn.model_selection import train_test_split\n",
    "import matplotlib.pyplot as plt\n",
    "from keras.callbacks import ModelCheckpoint, ReduceLROnPlateau"
   ]
  },
  {
   "cell_type": "code",
   "execution_count": 2,
   "metadata": {},
   "outputs": [],
   "source": [
    "BS = 100\n",
    "EPOCHS = 5\n",
    "default_image_size = tuple((128, 128))\n",
    "learning_rate = 0.001\n",
    "image_size = 0\n",
    "directory_root = 'Input/plantvillage dataset/color'\n",
    "width=128\n",
    "height=128\n",
    "depth=3"
   ]
  },
  {
   "cell_type": "code",
   "execution_count": 3,
   "metadata": {},
   "outputs": [],
   "source": [
    "def convert_image_to_array(image_dir):\n",
    "    try:\n",
    "        image = cv2.imread(image_dir)\n",
    "        if image is not None :\n",
    "            image = cv2.resize(image, default_image_size)   \n",
    "            return img_to_array(image)\n",
    "        else :\n",
    "            return np.array([])\n",
    "    except Exception as e:\n",
    "        print(f\"Error : {e}\")\n",
    "        return None"
   ]
  },
  {
   "cell_type": "code",
   "execution_count": 4,
   "metadata": {},
   "outputs": [
    {
     "name": "stdout",
     "output_type": "stream",
     "text": [
      "[INFO] Loading images ...\n",
      "[INFO] Processing Apple___Apple_scab ...\n",
      "[INFO] Processing Apple___Black_rot ...\n",
      "[INFO] Processing Apple___Cedar_apple_rust ...\n",
      "[INFO] Processing Apple___healthy ...\n",
      "[INFO] Processing Blueberry___healthy ...\n",
      "[INFO] Processing Cherry_(including_sour)___healthy ...\n",
      "[INFO] Processing Cherry_(including_sour)___Powdery_mildew ...\n",
      "[INFO] Processing Corn_(maize)___Cercospora_leaf_spot Gray_leaf_spot ...\n",
      "[INFO] Processing Corn_(maize)___Common_rust_ ...\n",
      "[INFO] Processing Corn_(maize)___healthy ...\n",
      "[INFO] Processing Corn_(maize)___Northern_Leaf_Blight ...\n",
      "[INFO] Processing Grape___Black_rot ...\n",
      "[INFO] Processing Grape___Esca_(Black_Measles) ...\n",
      "[INFO] Processing Grape___healthy ...\n",
      "[INFO] Processing Grape___Leaf_blight_(Isariopsis_Leaf_Spot) ...\n",
      "[INFO] Processing Orange___Haunglongbing_(Citrus_greening) ...\n",
      "[INFO] Processing Peach___Bacterial_spot ...\n",
      "[INFO] Processing Peach___healthy ...\n",
      "[INFO] Processing Pepper,_bell___Bacterial_spot ...\n",
      "[INFO] Processing Pepper,_bell___healthy ...\n",
      "[INFO] Processing Potato___Early_blight ...\n",
      "[INFO] Processing Potato___healthy ...\n",
      "[INFO] Processing Potato___Late_blight ...\n",
      "[INFO] Processing Raspberry___healthy ...\n",
      "[INFO] Processing Soybean___healthy ...\n",
      "[INFO] Processing Squash___Powdery_mildew ...\n",
      "[INFO] Processing Strawberry___healthy ...\n",
      "[INFO] Processing Strawberry___Leaf_scorch ...\n",
      "[INFO] Processing Tomato___Bacterial_spot ...\n",
      "[INFO] Processing Tomato___Early_blight ...\n",
      "[INFO] Processing Tomato___healthy ...\n",
      "[INFO] Processing Tomato___Late_blight ...\n",
      "[INFO] Processing Tomato___Leaf_Mold ...\n",
      "[INFO] Processing Tomato___Septoria_leaf_spot ...\n",
      "[INFO] Processing Tomato___Spider_mites Two-spotted_spider_mite ...\n",
      "[INFO] Processing Tomato___Target_Spot ...\n",
      "[INFO] Processing Tomato___Tomato_mosaic_virus ...\n",
      "[INFO] Processing Tomato___Tomato_Yellow_Leaf_Curl_Virus ...\n",
      "[INFO] Image loading completed\n"
     ]
    }
   ],
   "source": [
    "image_list, label_list = [], []\n",
    "try:\n",
    "    print(\"[INFO] Loading images ...\")\n",
    "    root_dir = listdir(directory_root)\n",
    "    for directory in root_dir :\n",
    "        # remove .DS_Store from list\n",
    "        if directory == \".DS_Store\" :\n",
    "            root_dir.remove(directory)\n",
    "\n",
    "    for plant_disease_folder in root_dir:\n",
    "        print(f\"[INFO] Processing {plant_disease_folder} ...\")\n",
    "        plant_disease_image_list = listdir(f\"{directory_root}/{plant_disease_folder}/\")\n",
    "                \n",
    "        for single_plant_disease_image in plant_disease_image_list :\n",
    "            if single_plant_disease_image == \".DS_Store\" :\n",
    "                plant_disease_image_list.remove(single_plant_disease_image)\n",
    "\n",
    "        for image in plant_disease_image_list[:500]:\n",
    "            image_directory = f\"{directory_root}/{plant_disease_folder}/{image}\"\n",
    "            if image_directory.endswith(\".jpg\") == True or image_directory.endswith(\".JPG\") == True:\n",
    "                image_list.append(convert_image_to_array(image_directory))\n",
    "                label_list.append(plant_disease_folder)\n",
    "    print(\"[INFO] Image loading completed\")  \n",
    "except Exception as e:\n",
    "    print(f\"Error : {e}\")"
   ]
  },
  {
   "cell_type": "code",
   "execution_count": 5,
   "metadata": {},
   "outputs": [
    {
     "name": "stdout",
     "output_type": "stream",
     "text": [
      "['Apple___Apple_scab' 'Apple___Black_rot' 'Apple___Cedar_apple_rust'\n",
      " 'Apple___healthy' 'Blueberry___healthy'\n",
      " 'Cherry_(including_sour)___Powdery_mildew'\n",
      " 'Cherry_(including_sour)___healthy'\n",
      " 'Corn_(maize)___Cercospora_leaf_spot Gray_leaf_spot'\n",
      " 'Corn_(maize)___Common_rust_' 'Corn_(maize)___Northern_Leaf_Blight'\n",
      " 'Corn_(maize)___healthy' 'Grape___Black_rot'\n",
      " 'Grape___Esca_(Black_Measles)'\n",
      " 'Grape___Leaf_blight_(Isariopsis_Leaf_Spot)' 'Grape___healthy'\n",
      " 'Orange___Haunglongbing_(Citrus_greening)' 'Peach___Bacterial_spot'\n",
      " 'Peach___healthy' 'Pepper,_bell___Bacterial_spot'\n",
      " 'Pepper,_bell___healthy' 'Potato___Early_blight' 'Potato___Late_blight'\n",
      " 'Potato___healthy' 'Raspberry___healthy' 'Soybean___healthy'\n",
      " 'Squash___Powdery_mildew' 'Strawberry___Leaf_scorch'\n",
      " 'Strawberry___healthy' 'Tomato___Bacterial_spot' 'Tomato___Early_blight'\n",
      " 'Tomato___Late_blight' 'Tomato___Leaf_Mold' 'Tomato___Septoria_leaf_spot'\n",
      " 'Tomato___Spider_mites Two-spotted_spider_mite' 'Tomato___Target_Spot'\n",
      " 'Tomato___Tomato_Yellow_Leaf_Curl_Virus' 'Tomato___Tomato_mosaic_virus'\n",
      " 'Tomato___healthy']\n"
     ]
    }
   ],
   "source": [
    "image_size = len(image_list)\n",
    "label_binarizer = LabelBinarizer()\n",
    "image_labels = label_binarizer.fit_transform(label_list)\n",
    "pickle.dump(label_binarizer,open('label_transform.pkl', 'wb'))\n",
    "n_classes = len(label_binarizer.classes_)\n",
    "print(label_binarizer.classes_)"
   ]
  },
  {
   "cell_type": "code",
   "execution_count": 9,
   "metadata": {},
   "outputs": [
    {
     "name": "stdout",
     "output_type": "stream",
     "text": [
      "[INFO] Spliting data to train, test\n"
     ]
    }
   ],
   "source": [
    "np_image_list = np.array(image_list, dtype=np.float16) / 225.0\n",
    "print(\"[INFO] Spliting data to train, test\")\n",
    "x_train, x_test, y_train, y_test = train_test_split(np_image_list, image_labels, test_size=0.2)"
   ]
  },
  {
   "cell_type": "code",
   "execution_count": 10,
   "metadata": {},
   "outputs": [],
   "source": [
    "aug = ImageDataGenerator(\n",
    "    rotation_range=25, width_shift_range=0.1,\n",
    "    height_shift_range=0.1, shear_range=0.2, \n",
    "    zoom_range=0.2,horizontal_flip=True, \n",
    "    fill_mode=\"nearest\")"
   ]
  },
  {
   "cell_type": "code",
   "execution_count": 11,
   "metadata": {},
   "outputs": [],
   "source": [
    "from keras.models import Model\n",
    "from keras.optimizers import Adam\n",
    "from keras.layers import GlobalAveragePooling2D\n",
    "from keras.layers import Dense\n",
    "from keras.applications import MobileNetV2\n",
    "from keras.utils.np_utils import to_categorical\n",
    "\n",
    "# Get the MobileNetV2 model so we can do transfer learning\n",
    "base_mobilenet = MobileNetV2(weights='imagenet', include_top=False, \n",
    "                             input_shape=(128, 128, 3))\n",
    "                             \n",
    "# Add a global spatial average pooling layer\n",
    "out = base_mobilenet.output\n",
    "out = GlobalAveragePooling2D()(out)\n",
    "out = Dense(512, activation='relu')(out)\n",
    "out = Dense(512, activation='relu')(out)\n",
    "predictions = Dense(n_classes, activation='softmax')(out)\n",
    "model = Model(inputs=base_mobilenet.input, outputs=predictions)\n",
    "\n",
    "# only if we want to freeze layers\n",
    "for layer in base_mobilenet.layers:\n",
    "    layer.trainable = False\n",
    "    \n",
    "# Compile \n",
    "opt = Adam(learning_rate=learning_rate, decay=learning_rate / EPOCHS)\n",
    "model.compile(loss='categorical_crossentropy', optimizer=opt,metrics=[\"accuracy\"]) "
   ]
  },
  {
   "cell_type": "code",
   "execution_count": null,
   "metadata": {},
   "outputs": [
    {
     "name": "stderr",
     "output_type": "stream",
     "text": [
      "c:\\users\\91700\\appdata\\local\\programs\\python\\python37\\lib\\site-packages\\ipykernel_launcher.py:8: UserWarning: `Model.fit_generator` is deprecated and will be removed in a future version. Please use `Model.fit`, which supports generators.\n",
      "  \n"
     ]
    },
    {
     "name": "stdout",
     "output_type": "stream",
     "text": [
      "Epoch 1/45\n",
      "\n",
      "Epoch 1: val_loss improved from inf to 0.52509, saving model to model.h5\n",
      "143/143 - 141s - loss: 0.8855 - accuracy: 0.7374 - val_loss: 0.5251 - val_accuracy: 0.8375 - 141s/epoch - 987ms/step\n",
      "Epoch 2/45\n",
      "\n",
      "Epoch 2: val_loss improved from 0.52509 to 0.40077, saving model to model.h5\n",
      "143/143 - 120s - loss: 0.4175 - accuracy: 0.8596 - val_loss: 0.4008 - val_accuracy: 0.8705 - 120s/epoch - 843ms/step\n",
      "Epoch 3/45\n",
      "\n",
      "Epoch 3: val_loss did not improve from 0.40077\n",
      "143/143 - 124s - loss: 0.3394 - accuracy: 0.8865 - val_loss: 0.4553 - val_accuracy: 0.8587 - 124s/epoch - 870ms/step\n",
      "Epoch 4/45\n",
      "\n",
      "Epoch 4: val_loss improved from 0.40077 to 0.36810, saving model to model.h5\n",
      "143/143 - 129s - loss: 0.2944 - accuracy: 0.9002 - val_loss: 0.3681 - val_accuracy: 0.8844 - 129s/epoch - 903ms/step\n",
      "Epoch 5/45\n",
      "\n",
      "Epoch 5: val_loss improved from 0.36810 to 0.34035, saving model to model.h5\n",
      "143/143 - 129s - loss: 0.2648 - accuracy: 0.9079 - val_loss: 0.3403 - val_accuracy: 0.8911 - 129s/epoch - 901ms/step\n",
      "Epoch 6/45\n",
      "\n",
      "Epoch 6: val_loss did not improve from 0.34035\n",
      "143/143 - 127s - loss: 0.2464 - accuracy: 0.9139 - val_loss: 0.3431 - val_accuracy: 0.8878 - 127s/epoch - 887ms/step\n",
      "Epoch 7/45\n",
      "\n",
      "Epoch 7: val_loss improved from 0.34035 to 0.32205, saving model to model.h5\n",
      "143/143 - 128s - loss: 0.2175 - accuracy: 0.9239 - val_loss: 0.3220 - val_accuracy: 0.8989 - 128s/epoch - 892ms/step\n",
      "Epoch 8/45\n",
      "\n",
      "Epoch 8: val_loss improved from 0.32205 to 0.31348, saving model to model.h5\n",
      "143/143 - 129s - loss: 0.2133 - accuracy: 0.9254 - val_loss: 0.3135 - val_accuracy: 0.9001 - 129s/epoch - 903ms/step\n",
      "Epoch 9/45\n",
      "\n",
      "Epoch 9: val_loss did not improve from 0.31348\n",
      "143/143 - 127s - loss: 0.1986 - accuracy: 0.9310 - val_loss: 0.3480 - val_accuracy: 0.8942 - 127s/epoch - 885ms/step\n",
      "Epoch 10/45\n",
      "\n",
      "Epoch 10: val_loss did not improve from 0.31348\n",
      "143/143 - 127s - loss: 0.1775 - accuracy: 0.9382 - val_loss: 0.3526 - val_accuracy: 0.8970 - 127s/epoch - 888ms/step\n",
      "Epoch 11/45\n",
      "\n",
      "Epoch 11: val_loss did not improve from 0.31348\n",
      "143/143 - 127s - loss: 0.1760 - accuracy: 0.9374 - val_loss: 0.3176 - val_accuracy: 0.9020 - 127s/epoch - 890ms/step\n",
      "Epoch 12/45\n",
      "\n",
      "Epoch 12: val_loss improved from 0.31348 to 0.30271, saving model to model.h5\n",
      "143/143 - 127s - loss: 0.1597 - accuracy: 0.9428 - val_loss: 0.3027 - val_accuracy: 0.9056 - 127s/epoch - 890ms/step\n",
      "Epoch 13/45\n",
      "\n",
      "Epoch 13: val_loss did not improve from 0.30271\n",
      "143/143 - 127s - loss: 0.1539 - accuracy: 0.9469 - val_loss: 0.3468 - val_accuracy: 0.9006 - 127s/epoch - 891ms/step\n",
      "Epoch 14/45\n",
      "\n",
      "Epoch 14: val_loss improved from 0.30271 to 0.29828, saving model to model.h5\n",
      "143/143 - 127s - loss: 0.1442 - accuracy: 0.9492 - val_loss: 0.2983 - val_accuracy: 0.9101 - 127s/epoch - 888ms/step\n",
      "Epoch 15/45\n",
      "\n",
      "Epoch 15: val_loss did not improve from 0.29828\n",
      "143/143 - 127s - loss: 0.1396 - accuracy: 0.9498 - val_loss: 0.3149 - val_accuracy: 0.9090 - 127s/epoch - 890ms/step\n",
      "Epoch 16/45\n",
      "\n",
      "Epoch 16: val_loss improved from 0.29828 to 0.29554, saving model to model.h5\n",
      "143/143 - 127s - loss: 0.1371 - accuracy: 0.9515 - val_loss: 0.2955 - val_accuracy: 0.9149 - 127s/epoch - 891ms/step\n",
      "Epoch 17/45\n",
      "\n",
      "Epoch 17: val_loss improved from 0.29554 to 0.29225, saving model to model.h5\n",
      "143/143 - 126s - loss: 0.1380 - accuracy: 0.9524 - val_loss: 0.2922 - val_accuracy: 0.9137 - 126s/epoch - 880ms/step\n",
      "Epoch 18/45\n",
      "\n",
      "Epoch 18: val_loss did not improve from 0.29225\n",
      "143/143 - 127s - loss: 0.1217 - accuracy: 0.9555 - val_loss: 0.3195 - val_accuracy: 0.9062 - 127s/epoch - 886ms/step\n",
      "Epoch 19/45\n",
      "\n",
      "Epoch 19: val_loss did not improve from 0.29225\n",
      "143/143 - 126s - loss: 0.1186 - accuracy: 0.9580 - val_loss: 0.3369 - val_accuracy: 0.9068 - 126s/epoch - 878ms/step\n",
      "Epoch 20/45\n",
      "\n",
      "Epoch 20: val_loss improved from 0.29225 to 0.28337, saving model to model.h5\n",
      "143/143 - 127s - loss: 0.1176 - accuracy: 0.9570 - val_loss: 0.2834 - val_accuracy: 0.9190 - 127s/epoch - 888ms/step\n",
      "Epoch 21/45\n",
      "\n",
      "Epoch 21: val_loss did not improve from 0.28337\n",
      "143/143 - 125s - loss: 0.1262 - accuracy: 0.9552 - val_loss: 0.3186 - val_accuracy: 0.9048 - 125s/epoch - 874ms/step\n",
      "Epoch 22/45\n",
      "\n",
      "Epoch 22: val_loss improved from 0.28337 to 0.28027, saving model to model.h5\n",
      "143/143 - 126s - loss: 0.0971 - accuracy: 0.9673 - val_loss: 0.2803 - val_accuracy: 0.9221 - 126s/epoch - 884ms/step\n",
      "Epoch 23/45\n",
      "\n",
      "Epoch 23: val_loss did not improve from 0.28027\n",
      "143/143 - 125s - loss: 0.1100 - accuracy: 0.9632 - val_loss: 0.2997 - val_accuracy: 0.9132 - 125s/epoch - 876ms/step\n",
      "Epoch 24/45\n",
      "\n",
      "Epoch 24: val_loss did not improve from 0.28027\n",
      "143/143 - 126s - loss: 0.1019 - accuracy: 0.9639 - val_loss: 0.2911 - val_accuracy: 0.9154 - 126s/epoch - 884ms/step\n",
      "Epoch 25/45\n",
      "\n",
      "Epoch 25: val_loss did not improve from 0.28027\n",
      "143/143 - 126s - loss: 0.1028 - accuracy: 0.9641 - val_loss: 0.3023 - val_accuracy: 0.9193 - 126s/epoch - 882ms/step\n",
      "Epoch 26/45\n",
      "\n",
      "Epoch 26: val_loss did not improve from 0.28027\n",
      "143/143 - 129s - loss: 0.0980 - accuracy: 0.9642 - val_loss: 0.3070 - val_accuracy: 0.9182 - 129s/epoch - 900ms/step\n",
      "Epoch 27/45\n",
      "\n",
      "Epoch 27: val_loss did not improve from 0.28027\n",
      "143/143 - 127s - loss: 0.0998 - accuracy: 0.9656 - val_loss: 0.3398 - val_accuracy: 0.9076 - 127s/epoch - 886ms/step\n",
      "Epoch 28/45\n",
      "\n",
      "Epoch 28: val_loss did not improve from 0.28027\n",
      "143/143 - 127s - loss: 0.0933 - accuracy: 0.9675 - val_loss: 0.3230 - val_accuracy: 0.9079 - 127s/epoch - 886ms/step\n",
      "Epoch 29/45\n",
      "\n",
      "Epoch 29: val_loss improved from 0.28027 to 0.27918, saving model to model.h5\n",
      "143/143 - 128s - loss: 0.0794 - accuracy: 0.9722 - val_loss: 0.2792 - val_accuracy: 0.9224 - 128s/epoch - 896ms/step\n",
      "Epoch 30/45\n",
      "\n",
      "Epoch 30: val_loss did not improve from 0.27918\n",
      "143/143 - 127s - loss: 0.0872 - accuracy: 0.9703 - val_loss: 0.3382 - val_accuracy: 0.9146 - 127s/epoch - 890ms/step\n",
      "Epoch 31/45\n",
      "\n",
      "Epoch 31: val_loss did not improve from 0.27918\n",
      "143/143 - 123s - loss: 0.0768 - accuracy: 0.9711 - val_loss: 0.3075 - val_accuracy: 0.9193 - 123s/epoch - 861ms/step\n",
      "Epoch 32/45\n",
      "\n",
      "Epoch 32: val_loss did not improve from 0.27918\n",
      "143/143 - 126s - loss: 0.0889 - accuracy: 0.9677 - val_loss: 0.2943 - val_accuracy: 0.9213 - 126s/epoch - 883ms/step\n",
      "Epoch 33/45\n",
      "\n",
      "Epoch 33: val_loss did not improve from 0.27918\n",
      "143/143 - 127s - loss: 0.0832 - accuracy: 0.9727 - val_loss: 0.3061 - val_accuracy: 0.9135 - 127s/epoch - 885ms/step\n",
      "Epoch 34/45\n",
      "\n",
      "Epoch 34: val_loss did not improve from 0.27918\n",
      "143/143 - 126s - loss: 0.0830 - accuracy: 0.9716 - val_loss: 0.2924 - val_accuracy: 0.9227 - 126s/epoch - 885ms/step\n",
      "Epoch 35/45\n",
      "\n",
      "Epoch 35: val_loss did not improve from 0.27918\n",
      "143/143 - 127s - loss: 0.0787 - accuracy: 0.9721 - val_loss: 0.2813 - val_accuracy: 0.9218 - 127s/epoch - 886ms/step\n",
      "Epoch 36/45\n",
      "\n",
      "Epoch 36: val_loss did not improve from 0.27918\n",
      "143/143 - 126s - loss: 0.0714 - accuracy: 0.9748 - val_loss: 0.2973 - val_accuracy: 0.9229 - 126s/epoch - 881ms/step\n",
      "Epoch 37/45\n",
      "\n",
      "Epoch 37: val_loss did not improve from 0.27918\n",
      "143/143 - 125s - loss: 0.0734 - accuracy: 0.9735 - val_loss: 0.3093 - val_accuracy: 0.9241 - 125s/epoch - 875ms/step\n",
      "Epoch 38/45\n",
      "\n",
      "Epoch 38: val_loss did not improve from 0.27918\n",
      "143/143 - 1289s - loss: 0.0745 - accuracy: 0.9731 - val_loss: 0.2854 - val_accuracy: 0.9224 - 1289s/epoch - 9s/step\n",
      "Epoch 39/45\n",
      "\n",
      "Epoch 39: val_loss improved from 0.27918 to 0.25955, saving model to model.h5\n",
      "143/143 - 298s - loss: 0.0709 - accuracy: 0.9747 - val_loss: 0.2596 - val_accuracy: 0.9291 - 298s/epoch - 2s/step\n",
      "Epoch 40/45\n",
      "\n",
      "Epoch 40: val_loss did not improve from 0.25955\n",
      "143/143 - 296s - loss: 0.0716 - accuracy: 0.9741 - val_loss: 0.2838 - val_accuracy: 0.9252 - 296s/epoch - 2s/step\n",
      "Epoch 41/45\n",
      "\n",
      "Epoch 41: val_loss did not improve from 0.25955\n",
      "143/143 - 296s - loss: 0.0629 - accuracy: 0.9775 - val_loss: 0.2964 - val_accuracy: 0.9252 - 296s/epoch - 2s/step\n",
      "Epoch 42/45\n",
      "\n",
      "Epoch 42: val_loss did not improve from 0.25955\n",
      "143/143 - 294s - loss: 0.0721 - accuracy: 0.9748 - val_loss: 0.3119 - val_accuracy: 0.9210 - 294s/epoch - 2s/step\n",
      "Epoch 43/45\n",
      "\n",
      "Epoch 43: val_loss did not improve from 0.25955\n",
      "143/143 - 295s - loss: 0.0650 - accuracy: 0.9778 - val_loss: 0.3055 - val_accuracy: 0.9227 - 295s/epoch - 2s/step\n",
      "Epoch 44/45\n"
     ]
    }
   ],
   "source": [
    "checkpoint = ModelCheckpoint('model.h5', verbose=1, save_best_only=True)\n",
    "history = model.fit_generator(\n",
    "    aug.flow(x_train, y_train, batch_size=BS),\n",
    "    validation_data=(x_test, y_test),\n",
    "    steps_per_epoch=len(x_train) // BS,\n",
    "    epochs=45, \n",
    "    callbacks=[checkpoint],\n",
    "    verbose=2\n",
    "    )"
   ]
  },
  {
   "cell_type": "code",
   "execution_count": 10,
   "metadata": {},
   "outputs": [
    {
     "data": {
      "image/png": "[encoded data removed]",
      "text/plain": [
       "<Figure size 432x288 with 1 Axes>"
      ]
     },
     "metadata": {
      "needs_background": "light"
     },
     "output_type": "display_data"
    },
    {
     "data": {
      "image/png": "[encoded data removed]",
      "text/plain": [
       "<Figure size 432x288 with 1 Axes>"
      ]
     },
     "metadata": {
      "needs_background": "light"
     },
     "output_type": "display_data"
    }
   ],
   "source": [
    "acc = history.history['accuracy']\n",
    "val_acc = history.history['val_accuracy']\n",
    "loss = history.history['loss']\n",
    "val_loss = history.history['val_loss']\n",
    "epochs = range(1, len(acc) + 1)\n",
    "#Train and validation accuracy\n",
    "plt.plot(epochs, acc, 'b', label='Training accurarcy')\n",
    "plt.plot(epochs, val_acc, 'r', label='Validation accurarcy')\n",
    "plt.title('Training and Validation accurarcy')\n",
    "plt.legend()\n",
    "\n",
    "plt.figure()\n",
    "#Train and validation loss\n",
    "plt.plot(epochs, loss, 'b', label='Training loss')\n",
    "plt.plot(epochs, val_loss, 'r', label='Validation loss')\n",
    "plt.title('Training and Validation loss')\n",
    "plt.legend()\n",
    "plt.show()"
   ]
  },
  {
   "cell_type": "code",
   "execution_count": 11,
   "metadata": {},
   "outputs": [
    {
     "name": "stdout",
     "output_type": "stream",
     "text": [
      "[INFO] Calculating model accuracy\n",
      "112/112 [==============================] - 27s 222ms/step - loss: 0.2609 - accuracy: 0.9366\n",
      "Test Accuracy: 93.66275668144226\n"
     ]
    }
   ],
   "source": [
    "print(\"[INFO] Calculating model accuracy\")\n",
    "scores = model.evaluate(x_test, y_test)\n",
    "print(f\"Test Accuracy: {scores[1]*100}\")"
   ]
  },
  {
   "cell_type": "code",
   "execution_count": 12,
   "metadata": {},
   "outputs": [
    {
     "name": "stderr",
     "output_type": "stream",
     "text": [
      "WARNING:absl:Found untraced functions such as _jit_compiled_convolution_op, _jit_compiled_convolution_op, _jit_compiled_convolution_op, _jit_compiled_convolution_op, _jit_compiled_convolution_op while saving (showing 5 of 52). These functions will not be directly callable after loading.\n"
     ]
    },
    {
     "name": "stdout",
     "output_type": "stream",
     "text": [
      "INFO:tensorflow:Assets written to: ram://4aba3ee7-80a3-4bc7-b241-6d4b2f55e2c2/assets\n"
     ]
    },
    {
     "name": "stderr",
     "output_type": "stream",
     "text": [
      "INFO:tensorflow:Assets written to: ram://4aba3ee7-80a3-4bc7-b241-6d4b2f55e2c2/assets\n"
     ]
    },
    {
     "data": {
      "text/plain": [
       "['mmmodel.pkl']"
      ]
     },
     "execution_count": 12,
     "metadata": {},
     "output_type": "execute_result"
    }
   ],
   "source": [
    "import joblib\n",
    "\n",
    "from numpy.testing import assert_almost_equal\n",
    "\n",
    "joblib.dump(model, 'mmmodel.pkl')"
   ]
  },
  {
   "cell_type": "code",
   "execution_count": 13,
   "metadata": {
    "scrolled": true
   },
   "outputs": [],
   "source": [
    "path = './model_final.h5'\n",
    "model.save(path )"
   ]
  },
  {
   "cell_type": "code",
   "execution_count": null,
   "metadata": {},
   "outputs": [],
   "source": []
  }
 ],
 "metadata": {
  "kernelspec": {
   "display_name": "Python 3",
   "language": "python",
   "name": "python3"
  },
  "language_info": {
   "codemirror_mode": {
    "name": "ipython",
    "version": 3
   },
   "file_extension": ".py",
   "mimetype": "text/x-python",
   "name": "python",
   "nbconvert_exporter": "python",
   "pygments_lexer": "ipython3",
   "version": "3.7.7"
  }
 },
 "nbformat": 4,
 "nbformat_minor": 4
}
